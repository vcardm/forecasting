{
 "cells": [
  {
   "cell_type": "markdown",
   "id": "526f75c5",
   "metadata": {},
   "source": [
    "9/8/2023"
   ]
  },
  {
   "cell_type": "markdown",
   "id": "8391dc51",
   "metadata": {},
   "source": [
    "Will create an ARIMA model to predict the future sales values of a market using python.\n",
    "\n",
    "ARIMA: Autoregressive Integrated Moving Average"
   ]
  },
  {
   "cell_type": "markdown",
   "id": "75dcc75e",
   "metadata": {},
   "source": [
    "Install and import the necessary:"
   ]
  },
  {
   "cell_type": "code",
   "execution_count": 2,
   "id": "cf7d9ab3",
   "metadata": {},
   "outputs": [
    {
     "name": "stdout",
     "output_type": "stream",
     "text": [
      "Requirement already satisfied: pmdarima in c:\\users\\valen\\anaconda3\\lib\\site-packages (2.0.3)\n",
      "Requirement already satisfied: pandas>=0.19 in c:\\users\\valen\\anaconda3\\lib\\site-packages (from pmdarima) (1.5.3)\n",
      "Requirement already satisfied: numpy>=1.21.2 in c:\\users\\valen\\anaconda3\\lib\\site-packages (from pmdarima) (1.25.2)\n",
      "Requirement already satisfied: Cython!=0.29.18,!=0.29.31,>=0.29 in c:\\users\\valen\\anaconda3\\lib\\site-packages (from pmdarima) (0.29.24)\n",
      "Requirement already satisfied: joblib>=0.11 in c:\\users\\valen\\anaconda3\\lib\\site-packages (from pmdarima) (1.2.0)\n",
      "Requirement already satisfied: statsmodels>=0.13.2 in c:\\users\\valen\\anaconda3\\lib\\site-packages (from pmdarima) (0.14.0)\n",
      "Requirement already satisfied: urllib3 in c:\\users\\valen\\anaconda3\\lib\\site-packages (from pmdarima) (1.26.7)\n",
      "Requirement already satisfied: scikit-learn>=0.22 in c:\\users\\valen\\anaconda3\\lib\\site-packages (from pmdarima) (1.2.2)\n",
      "Requirement already satisfied: setuptools!=50.0.0,>=38.6.0 in c:\\users\\valen\\anaconda3\\lib\\site-packages (from pmdarima) (58.0.4)\n",
      "Requirement already satisfied: scipy>=1.3.2 in c:\\users\\valen\\anaconda3\\lib\\site-packages (from pmdarima) (1.11.2)\n",
      "Requirement already satisfied: python-dateutil>=2.8.1 in c:\\users\\valen\\anaconda3\\lib\\site-packages (from pandas>=0.19->pmdarima) (2.8.2)\n",
      "Requirement already satisfied: pytz>=2020.1 in c:\\users\\valen\\anaconda3\\lib\\site-packages (from pandas>=0.19->pmdarima) (2021.3)\n",
      "Requirement already satisfied: six>=1.5 in c:\\users\\valen\\anaconda3\\lib\\site-packages (from python-dateutil>=2.8.1->pandas>=0.19->pmdarima) (1.16.0)\n",
      "Requirement already satisfied: threadpoolctl>=2.0.0 in c:\\users\\valen\\anaconda3\\lib\\site-packages (from scikit-learn>=0.22->pmdarima) (2.2.0)\n",
      "Requirement already satisfied: patsy>=0.5.2 in c:\\users\\valen\\anaconda3\\lib\\site-packages (from statsmodels>=0.13.2->pmdarima) (0.5.2)\n",
      "Requirement already satisfied: packaging>=21.3 in c:\\users\\valen\\anaconda3\\lib\\site-packages (from statsmodels>=0.13.2->pmdarima) (23.1)\n"
     ]
    },
    {
     "name": "stderr",
     "output_type": "stream",
     "text": [
      "WARNING: Ignoring invalid distribution -cikit-learn (c:\\users\\valen\\anaconda3\\lib\\site-packages)\n",
      "WARNING: Ignoring invalid distribution -cikit-learn (c:\\users\\valen\\anaconda3\\lib\\site-packages)\n",
      "WARNING: Ignoring invalid distribution -cikit-learn (c:\\users\\valen\\anaconda3\\lib\\site-packages)\n",
      "WARNING: Ignoring invalid distribution -cikit-learn (c:\\users\\valen\\anaconda3\\lib\\site-packages)\n",
      "WARNING: Ignoring invalid distribution -cikit-learn (c:\\users\\valen\\anaconda3\\lib\\site-packages)\n",
      "WARNING: Ignoring invalid distribution -cikit-learn (c:\\users\\valen\\anaconda3\\lib\\site-packages)\n"
     ]
    }
   ],
   "source": [
    "!pip install pmdarima"
   ]
  },
  {
   "cell_type": "code",
   "execution_count": 3,
   "id": "33a27df2",
   "metadata": {},
   "outputs": [],
   "source": [
    "import pandas as pd\n",
    "# import seaborn as sns\n",
    "import matplotlib.pyplot as plt\n",
    "from matplotlib import pyplot \n",
    "from pandas import DataFrame\n",
    "import os # os module provides functionalits for interact with the operating system\n",
    "\n",
    "from statsmodels.tsa.stattools import adfuller\n",
    "from pmdarima import auto_arima\n",
    "from pandas.plotting import autocorrelation_plot\n",
    "\n",
    "from sklearn.metrics import mean_squared_error\n",
    "from math import sqrt\n",
    "\n",
    "from statsmodels.tsa.arima.model import ARIMA"
   ]
  },
  {
   "cell_type": "code",
   "execution_count": 13,
   "id": "86df483d",
   "metadata": {},
   "outputs": [],
   "source": [
    "import seaborn as sns"
   ]
  },
  {
   "cell_type": "code",
   "execution_count": 4,
   "id": "73d34830",
   "metadata": {},
   "outputs": [
    {
     "name": "stdout",
     "output_type": "stream",
     "text": [
      "1.25.2\n"
     ]
    }
   ],
   "source": [
    "import numpy as np\n",
    "print(np.__version__)"
   ]
  },
  {
   "cell_type": "code",
   "execution_count": 5,
   "id": "02fe3528",
   "metadata": {},
   "outputs": [
    {
     "name": "stdout",
     "output_type": "stream",
     "text": [
      "Requirement already satisfied: numpy in c:\\users\\valen\\anaconda3\\lib\\site-packages (1.25.2)\n",
      "Note: you may need to restart the kernel to use updated packages.\n"
     ]
    },
    {
     "name": "stderr",
     "output_type": "stream",
     "text": [
      "WARNING: Ignoring invalid distribution -cikit-learn (c:\\users\\valen\\anaconda3\\lib\\site-packages)\n",
      "WARNING: Ignoring invalid distribution -cikit-learn (c:\\users\\valen\\anaconda3\\lib\\site-packages)\n",
      "WARNING: Ignoring invalid distribution -cikit-learn (c:\\users\\valen\\anaconda3\\lib\\site-packages)\n",
      "WARNING: Ignoring invalid distribution -cikit-learn (c:\\users\\valen\\anaconda3\\lib\\site-packages)\n",
      "WARNING: Ignoring invalid distribution -cikit-learn (c:\\users\\valen\\anaconda3\\lib\\site-packages)\n",
      "WARNING: Ignoring invalid distribution -cikit-learn (c:\\users\\valen\\anaconda3\\lib\\site-packages)\n"
     ]
    }
   ],
   "source": [
    "pip install --upgrade numpy\n"
   ]
  },
  {
   "cell_type": "markdown",
   "id": "2a1bfd4f",
   "metadata": {},
   "source": [
    "Now that we have that, let's load in the data and get started!"
   ]
  },
  {
   "cell_type": "code",
   "execution_count": 31,
   "id": "3cb5ecb0",
   "metadata": {},
   "outputs": [],
   "source": [
    "df = pd.read_csv(\"C:/Users/valen/Downloads/forecasting/data/sales-cars.csv\")"
   ]
  },
  {
   "cell_type": "code",
   "execution_count": 32,
   "id": "6fbf571d",
   "metadata": {},
   "outputs": [
    {
     "data": {
      "text/html": [
       "<div>\n",
       "<style scoped>\n",
       "    .dataframe tbody tr th:only-of-type {\n",
       "        vertical-align: middle;\n",
       "    }\n",
       "\n",
       "    .dataframe tbody tr th {\n",
       "        vertical-align: top;\n",
       "    }\n",
       "\n",
       "    .dataframe thead th {\n",
       "        text-align: right;\n",
       "    }\n",
       "</style>\n",
       "<table border=\"1\" class=\"dataframe\">\n",
       "  <thead>\n",
       "    <tr style=\"text-align: right;\">\n",
       "      <th></th>\n",
       "      <th>Month</th>\n",
       "      <th>Sales</th>\n",
       "    </tr>\n",
       "  </thead>\n",
       "  <tbody>\n",
       "    <tr>\n",
       "      <th>0</th>\n",
       "      <td>2016-01</td>\n",
       "      <td>266</td>\n",
       "    </tr>\n",
       "    <tr>\n",
       "      <th>1</th>\n",
       "      <td>2016-02</td>\n",
       "      <td>146</td>\n",
       "    </tr>\n",
       "    <tr>\n",
       "      <th>2</th>\n",
       "      <td>2016-03</td>\n",
       "      <td>183</td>\n",
       "    </tr>\n",
       "    <tr>\n",
       "      <th>3</th>\n",
       "      <td>2016-04</td>\n",
       "      <td>119</td>\n",
       "    </tr>\n",
       "    <tr>\n",
       "      <th>4</th>\n",
       "      <td>2016-05</td>\n",
       "      <td>180</td>\n",
       "    </tr>\n",
       "  </tbody>\n",
       "</table>\n",
       "</div>"
      ],
      "text/plain": [
       "     Month  Sales\n",
       "0  2016-01    266\n",
       "1  2016-02    146\n",
       "2  2016-03    183\n",
       "3  2016-04    119\n",
       "4  2016-05    180"
      ]
     },
     "execution_count": 32,
     "metadata": {},
     "output_type": "execute_result"
    }
   ],
   "source": [
    "df.head()"
   ]
  },
  {
   "cell_type": "code",
   "execution_count": 41,
   "id": "c690e517",
   "metadata": {},
   "outputs": [
    {
     "data": {
      "text/html": [
       "<div>\n",
       "<style scoped>\n",
       "    .dataframe tbody tr th:only-of-type {\n",
       "        vertical-align: middle;\n",
       "    }\n",
       "\n",
       "    .dataframe tbody tr th {\n",
       "        vertical-align: top;\n",
       "    }\n",
       "\n",
       "    .dataframe thead th {\n",
       "        text-align: right;\n",
       "    }\n",
       "</style>\n",
       "<table border=\"1\" class=\"dataframe\">\n",
       "  <thead>\n",
       "    <tr style=\"text-align: right;\">\n",
       "      <th></th>\n",
       "      <th>Sales</th>\n",
       "    </tr>\n",
       "  </thead>\n",
       "  <tbody>\n",
       "    <tr>\n",
       "      <th>count</th>\n",
       "      <td>36.00000</td>\n",
       "    </tr>\n",
       "    <tr>\n",
       "      <th>mean</th>\n",
       "      <td>295.75000</td>\n",
       "    </tr>\n",
       "    <tr>\n",
       "      <th>std</th>\n",
       "      <td>117.81908</td>\n",
       "    </tr>\n",
       "    <tr>\n",
       "      <th>min</th>\n",
       "      <td>119.00000</td>\n",
       "    </tr>\n",
       "    <tr>\n",
       "      <th>25%</th>\n",
       "      <td>192.50000</td>\n",
       "    </tr>\n",
       "    <tr>\n",
       "      <th>50%</th>\n",
       "      <td>280.00000</td>\n",
       "    </tr>\n",
       "    <tr>\n",
       "      <th>75%</th>\n",
       "      <td>402.75000</td>\n",
       "    </tr>\n",
       "    <tr>\n",
       "      <th>max</th>\n",
       "      <td>520.00000</td>\n",
       "    </tr>\n",
       "  </tbody>\n",
       "</table>\n",
       "</div>"
      ],
      "text/plain": [
       "           Sales\n",
       "count   36.00000\n",
       "mean   295.75000\n",
       "std    117.81908\n",
       "min    119.00000\n",
       "25%    192.50000\n",
       "50%    280.00000\n",
       "75%    402.75000\n",
       "max    520.00000"
      ]
     },
     "execution_count": 41,
     "metadata": {},
     "output_type": "execute_result"
    }
   ],
   "source": [
    "df.describe()"
   ]
  },
  {
   "cell_type": "code",
   "execution_count": 43,
   "id": "0e78f0ec",
   "metadata": {},
   "outputs": [
    {
     "data": {
      "text/plain": [
       "(36, 2)"
      ]
     },
     "execution_count": 43,
     "metadata": {},
     "output_type": "execute_result"
    }
   ],
   "source": [
    "df.shape"
   ]
  },
  {
   "cell_type": "markdown",
   "id": "82d6f107",
   "metadata": {},
   "source": [
    "Let's edit the column names by converting the month column of the data to date format."
   ]
  },
  {
   "cell_type": "code",
   "execution_count": 46,
   "id": "2b7e3365",
   "metadata": {},
   "outputs": [
    {
     "name": "stdout",
     "output_type": "stream",
     "text": [
      "Index(['Month', 'Sales'], dtype='object')\n"
     ]
    }
   ],
   "source": [
    "print(df.columns)"
   ]
  },
  {
   "cell_type": "code",
   "execution_count": 47,
   "id": "c4cb552f",
   "metadata": {},
   "outputs": [
    {
     "name": "stdout",
     "output_type": "stream",
     "text": [
      "Month    object\n",
      "Sales     int64\n",
      "dtype: object\n"
     ]
    }
   ],
   "source": [
    "print(df.dtypes)"
   ]
  },
  {
   "cell_type": "code",
   "execution_count": 49,
   "id": "c1c0f930",
   "metadata": {},
   "outputs": [],
   "source": [
    "df.index = pd.to_datetime(df.Month, format = '%Y-%m')"
   ]
  },
  {
   "cell_type": "code",
   "execution_count": 50,
   "id": "225b820c",
   "metadata": {},
   "outputs": [
    {
     "name": "stderr",
     "output_type": "stream",
     "text": [
      "C:\\Users\\valen\\AppData\\Local\\Temp/ipykernel_5336/3464654871.py:1: FutureWarning: The default value of numeric_only in DataFrameGroupBy.sum is deprecated. In a future version, numeric_only will default to False. Either specify numeric_only or select only columns which should be valid for the function.\n",
      "  df = df.resample(\"M\").sum()\n"
     ]
    }
   ],
   "source": [
    "df = df.resample(\"M\").sum()"
   ]
  },
  {
   "cell_type": "code",
   "execution_count": 51,
   "id": "0261ebe8",
   "metadata": {},
   "outputs": [
    {
     "data": {
      "text/html": [
       "<div>\n",
       "<style scoped>\n",
       "    .dataframe tbody tr th:only-of-type {\n",
       "        vertical-align: middle;\n",
       "    }\n",
       "\n",
       "    .dataframe tbody tr th {\n",
       "        vertical-align: top;\n",
       "    }\n",
       "\n",
       "    .dataframe thead th {\n",
       "        text-align: right;\n",
       "    }\n",
       "</style>\n",
       "<table border=\"1\" class=\"dataframe\">\n",
       "  <thead>\n",
       "    <tr style=\"text-align: right;\">\n",
       "      <th></th>\n",
       "      <th>Sales</th>\n",
       "    </tr>\n",
       "    <tr>\n",
       "      <th>Month</th>\n",
       "      <th></th>\n",
       "    </tr>\n",
       "  </thead>\n",
       "  <tbody>\n",
       "    <tr>\n",
       "      <th>2016-01-31</th>\n",
       "      <td>266</td>\n",
       "    </tr>\n",
       "    <tr>\n",
       "      <th>2016-02-29</th>\n",
       "      <td>146</td>\n",
       "    </tr>\n",
       "    <tr>\n",
       "      <th>2016-03-31</th>\n",
       "      <td>183</td>\n",
       "    </tr>\n",
       "    <tr>\n",
       "      <th>2016-04-30</th>\n",
       "      <td>119</td>\n",
       "    </tr>\n",
       "    <tr>\n",
       "      <th>2016-05-31</th>\n",
       "      <td>180</td>\n",
       "    </tr>\n",
       "  </tbody>\n",
       "</table>\n",
       "</div>"
      ],
      "text/plain": [
       "            Sales\n",
       "Month            \n",
       "2016-01-31    266\n",
       "2016-02-29    146\n",
       "2016-03-31    183\n",
       "2016-04-30    119\n",
       "2016-05-31    180"
      ]
     },
     "execution_count": 51,
     "metadata": {},
     "output_type": "execute_result"
    }
   ],
   "source": [
    "df.head()"
   ]
  },
  {
   "cell_type": "markdown",
   "id": "9506297f",
   "metadata": {},
   "source": [
    "Let's draw a visual to see the distribution of sales"
   ]
  },
  {
   "cell_type": "code",
   "execution_count": 52,
   "id": "d6412186",
   "metadata": {},
   "outputs": [
    {
     "name": "stderr",
     "output_type": "stream",
     "text": [
      "C:\\Users\\valen\\anaconda3\\lib\\site-packages\\seaborn\\distributions.py:2619: FutureWarning: `distplot` is a deprecated function and will be removed in a future version. Please adapt your code to use either `displot` (a figure-level function with similar flexibility) or `histplot` (an axes-level function for histograms).\n",
      "  warnings.warn(msg, FutureWarning)\n"
     ]
    },
    {
     "data": {
      "image/png": "[encoded data removed]",
      "text/plain": [
       "<Figure size 864x360 with 1 Axes>"
      ]
     },
     "metadata": {
      "needs_background": "light"
     },
     "output_type": "display_data"
    }
   ],
   "source": [
    "plt.figure(figsize = (12, 5))\n",
    "plt.title('Sales Distribution Graph')\n",
    "ax = sns.distplot(df['Sales'], color = 'b')"
   ]
  },
  {
   "cell_type": "markdown",
   "id": "666f6a00",
   "metadata": {},
   "source": [
    "We have to make sure the data is stationary now. It is important to make sure it is in time series analysis and forecasting. Stationary means a property of time series data where statistical properities: mean, variance, autocorrelation, remain consent over time. \n",
    "\n",
    "It is needed because since we are using ARIMA model, this assumes stationarity, violating this assumtion can lead to incorrect results and unreliable forecasting. Also, stationary data tends to lead to show more consistetn patters over time and this lead to making idenifying trends easeir. "
   ]
  },
  {
   "cell_type": "markdown",
   "id": "83d6da50",
   "metadata": {},
   "source": [
    "So we will look for the p-value and interpet it.\n",
    "\n",
    "We will se adfuller library that we imported earlier. This is known as the Augmented Dickey-Fuller test. This is a statistical test used to determine whether a given time series is staitonary or non-stationary. "
   ]
  },
  {
   "cell_type": "code",
   "execution_count": 53,
   "id": "1cfa037f",
   "metadata": {},
   "outputs": [
    {
     "name": "stdout",
     "output_type": "stream",
     "text": [
      "1. ADF:  1.6368831572690354\n",
      "2. P-Value:  0.9979641164504948\n",
      "3. Num of Lags:  10\n",
      "4. Num of Observations Used for ADF Regression:  25\n",
      "5. Critical Values: \n",
      "\t 1% :  -3.7238633119999998\n",
      "\t 5% :  -2.98648896\n",
      "\t 10% :  -2.6328004\n"
     ]
    }
   ],
   "source": [
    "def adf_test(dataset):\n",
    "    \n",
    "    adtest = adfuller(dataset, autolag = 'AIC')\n",
    "    \n",
    "    print('1. ADF: ', adtest[0])\n",
    "    print('2. P-Value: ', adtest[1])\n",
    "    print('3. Num of Lags: ', adtest[2])\n",
    "    print('4. Num of Observations Used for ADF Regression: ', adtest[3])\n",
    "    print('5. Critical Values: ')\n",
    "    for key, val in adtest[4].items():\n",
    "        print(\"\\t\", key, \": \", val)\n",
    "        \n",
    "\n",
    "adf_test(df['Sales'])\n",
    "    "
   ]
  },
  {
   "cell_type": "markdown",
   "id": "931fcf8c",
   "metadata": {},
   "source": [
    "Our P value is  0.9356686982873872\n",
    "\n",
    "If P < 0.05: the data is stationary, if P > 0.05 the data is not staitonary\n",
    "\n",
    "So we concldue that the data is not stationary based on the ADF test. When we get into createing the ARIMA model, we need to specify the \"d\" value in order to amke this data stationary. Let's get into that now."
   ]
  },
  {
   "cell_type": "markdown",
   "id": "4ece9ef9",
   "metadata": {},
   "source": [
    "When we are creating the ARIMA model, there are 3 parameters given: p, d, and q.\n",
    "\n",
    "p - also known as autoregressive order: represents the order of the autoregressive componenet that captures the relationship between the current valye of the time series and the pass values. So, if p is set to 1, it means that the current value depends on the immediete preceding value, this is simple. If p is greater than 1 that it implies that the current value depends on the previous \"p\" values, therefore, a higher p value captures more complex patters in data.\n",
    "\n",
    "d - also known as differencing order: represnts the order of differencing applied to the time series to make it stationary. the differencing invovle subtracting the time series observations from their previous values and this helps remove trends which makes it more stationary. so, if d is set to 1, it means first-order differencing, where each observation is substrcted from its preceding obervation. if \"d\" is greater than one that this implies higher-order differenicging, which may be necessary for strongly non-stationary data. (in this case we will be in this area). in the end, the goal of differencing is to eliminate seasonallity and trends in the data so that it become stationary.\n",
    "\n",
    "q - also known as moving average order: represents the order of the moving average component of the modle. this component models the relationship between the current value of the time series and past white noise, random error terms. So, if q is set to 1 it is a first-order moving average model, where the current value depends on the pervious random error term. If q is greater than 1, then similarly, this implies that the current value dpends on the pervious q randoom error terms. And, similarly, a higher q value captures more complex structures.\n",
    "\n",
    "Now that we have an understanding let's continue!"
   ]
  },
  {
   "cell_type": "markdown",
   "id": "17911bd9",
   "metadata": {},
   "source": [
    "In order to decide how good the predictionn model is to use the auto_arima function, where it treis to minimize the AIC score.\n",
    "\n",
    "The AIC score, Akaike Information Criterion score measures the goodness of fit of a model to a dataset and it also takes into account the model's complexity.\n",
    "\n",
    "AIC =−2⋅ln(L)+2k\n",
    "\n",
    "- L : the likelihood of the model, this measures how well the model fits the data\n",
    "- k : the number of parameters in the model"
   ]
  },
  {
   "cell_type": "code",
   "execution_count": 54,
   "id": "25d1edf6",
   "metadata": {
    "scrolled": true
   },
   "outputs": [
    {
     "name": "stdout",
     "output_type": "stream",
     "text": [
      "Performing stepwise search to minimize aic\n",
      " ARIMA(2,1,2)(0,0,0)[0] intercept   : AIC=inf, Time=0.14 sec\n",
      " ARIMA(0,1,0)(0,0,0)[0] intercept   : AIC=416.144, Time=0.01 sec\n",
      " ARIMA(1,1,0)(0,0,0)[0] intercept   : AIC=393.468, Time=0.02 sec\n",
      " ARIMA(0,1,1)(0,0,0)[0] intercept   : AIC=392.946, Time=0.04 sec\n",
      " ARIMA(0,1,0)(0,0,0)[0]             : AIC=414.316, Time=0.02 sec\n",
      " ARIMA(1,1,1)(0,0,0)[0] intercept   : AIC=389.041, Time=0.06 sec\n",
      " ARIMA(2,1,1)(0,0,0)[0] intercept   : AIC=391.011, Time=0.10 sec\n",
      " ARIMA(1,1,2)(0,0,0)[0] intercept   : AIC=390.561, Time=0.36 sec\n",
      " ARIMA(0,1,2)(0,0,0)[0] intercept   : AIC=388.655, Time=0.30 sec\n",
      " ARIMA(0,1,3)(0,0,0)[0] intercept   : AIC=inf, Time=0.19 sec\n",
      " ARIMA(1,1,3)(0,0,0)[0] intercept   : AIC=inf, Time=0.26 sec\n",
      " ARIMA(0,1,2)(0,0,0)[0]             : AIC=inf, Time=0.07 sec\n",
      "\n",
      "Best model:  ARIMA(0,1,2)(0,0,0)[0] intercept\n",
      "Total fit time: 1.588 seconds\n"
     ]
    }
   ],
   "source": [
    "stepwise = auto_arima(df['Sales'], trace = True, supress_warnings = True)"
   ]
  },
  {
   "cell_type": "markdown",
   "id": "fee14c50",
   "metadata": {},
   "source": [
    "The function gave the ARIMA parameters (2,1,2) the best score.\n",
    "\n",
    "Based on the text from before, this means that we have difined a 2nd order autoregressive model and a second moving average model.\n",
    "\n",
    "Now that we have the paramters, let's move onto the data and start separating."
   ]
  },
  {
   "cell_type": "code",
   "execution_count": 70,
   "id": "057a75b2",
   "metadata": {},
   "outputs": [],
   "source": [
    "X = df.values #assigning the values of df to X\n",
    "size = int(len(X) * 0.65) #taking 66% of the ds and converting it to an int()\n",
    "train, test = X[0: size], X[size:len(X)] #split into train and test\n",
    "history = [x for x in train] #initilizes history list and populate it with the values of training ds (used to keep track of the historical data points as we iterate through the dataset)\n",
    "predictions = list() #initializes an empty predictions list which will be used to store the predictions made"
   ]
  },
  {
   "cell_type": "markdown",
   "id": "52cb23f1",
   "metadata": {},
   "source": [
    "Now we move to fitting the ARIMA Model."
   ]
  },
  {
   "cell_type": "code",
   "execution_count": 71,
   "id": "af99d47d",
   "metadata": {},
   "outputs": [
    {
     "name": "stderr",
     "output_type": "stream",
     "text": [
      "C:\\Users\\valen\\AppData\\Local\\Temp/ipykernel_5336/3945619616.py:9: DeprecationWarning: Conversion of an array with ndim > 0 to a scalar is deprecated, and will error in future. Ensure you extract a single element from your array before performing this operation. (Deprecated NumPy 1.25.)\n",
      "  print('Predicted = %f, Expected = %f' % (yhat, obs))\n"
     ]
    },
    {
     "name": "stdout",
     "output_type": "stream",
     "text": [
      "Predicted = 342.688061, Expected = 342.000000\n",
      "Predicted = 332.718095, Expected = 340.000000\n",
      "Predicted = 333.596915, Expected = 440.000000\n",
      "Predicted = 315.729583, Expected = 316.000000\n",
      "Predicted = 381.990070, Expected = 439.000000\n",
      "Predicted = 368.033062, Expected = 401.000000\n",
      "Predicted = 397.209020, Expected = 390.000000\n",
      "Predicted = 444.595219, Expected = 490.000000\n",
      "Predicted = 414.849189, Expected = 408.000000\n",
      "Predicted = 459.661810, Expected = 490.000000\n",
      "Predicted = 443.550592, Expected = 420.000000\n",
      "Predicted = 479.502346, Expected = 520.000000\n",
      "Predicted = 443.878524, Expected = 480.000000\n"
     ]
    }
   ],
   "source": [
    "for t in range(len(test)):\n",
    "    model = ARIMA(history, order = (0,1,2))\n",
    "    model_fit = model.fit()\n",
    "    output = model_fit.forecast()\n",
    "    yhat = output[0]\n",
    "    predictions.append(yhat)\n",
    "    obs = test[t]\n",
    "    history.append(obs)\n",
    "    print('Predicted = %f, Expected = %f' % (yhat, obs))"
   ]
  },
  {
   "cell_type": "markdown",
   "id": "8adb8457",
   "metadata": {},
   "source": [
    "Now that we we have the model let's move on to evaluating it."
   ]
  },
  {
   "cell_type": "code",
   "execution_count": 72,
   "id": "c5a9c5cc",
   "metadata": {},
   "outputs": [
    {
     "name": "stdout",
     "output_type": "stream",
     "text": [
      "Test RMSE:  41.410\n"
     ]
    }
   ],
   "source": [
    "rmse = sqrt(mean_squared_error(test, predictions))\n",
    "print('Test RMSE: % .3f' % rmse)"
   ]
  },
  {
   "cell_type": "markdown",
   "id": "7ef234be",
   "metadata": {},
   "source": [
    "Now that we have the rmse error amont we can see the forecast and actual values on the graph.\n",
    "\n",
    "The the actual values are depicted in blue and the estimated values are depeicted in red."
   ]
  },
  {
   "cell_type": "code",
   "execution_count": 73,
   "id": "6d448dbb",
   "metadata": {},
   "outputs": [
    {
     "data": {
      "image/png": "[encoded data removed]",
      "text/plain": [
       "<Figure size 432x288 with 1 Axes>"
      ]
     },
     "metadata": {
      "needs_background": "light"
     },
     "output_type": "display_data"
    }
   ],
   "source": [
    "pyplot.plot(test)\n",
    "pyplot.plot(predictions, color = 'red')\n",
    "pyplot.title('Avtual v Estimated Values')\n",
    "pyplot.show()"
   ]
  },
  {
   "cell_type": "markdown",
   "id": "609b52f3",
   "metadata": {},
   "source": [
    "From the red line, which describes the output of the model for future periods and the blue line which has aactually occured in the above output image. \n",
    "\n",
    "As we can see, the prediction model does not fully overlap with the real values in order to make a consistent prediction without beeing too risky. But, the predicted values and actual values both exhibit a consistent pattern of trending upwards and downwards over time. This consistency is valuable because it indicates that our model isn't excessively fitting to noise in the data, and so we will take it, for now. \n",
    "\n",
    "However, it's essential to continue monitoring the model's performance and potentially make improvements as needed to ensure it remains accurate and reliable in the long term."
   ]
  },
  {
   "cell_type": "code",
   "execution_count": null,
   "id": "a3dc7176",
   "metadata": {},
   "outputs": [],
   "source": []
  }
 ],
 "metadata": {
  "kernelspec": {
   "display_name": "Python 3 (ipykernel)",
   "language": "python",
   "name": "python3"
  },
  "language_info": {
   "codemirror_mode": {
    "name": "ipython",
    "version": 3
   },
   "file_extension": ".py",
   "mimetype": "text/x-python",
   "name": "python",
   "nbconvert_exporter": "python",
   "pygments_lexer": "ipython3",
   "version": "3.9.7"
  }
 },
 "nbformat": 4,
 "nbformat_minor": 5
}
